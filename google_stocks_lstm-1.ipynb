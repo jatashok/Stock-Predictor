{
  "nbformat": 4,
  "nbformat_minor": 0,
  "metadata": {
    "colab": {
      "name": "google_stocks_lstm.ipynb",
      "provenance": [],
      "collapsed_sections": [],
      "toc_visible": true
    },
    "kernelspec": {
      "name": "python3",
      "display_name": "Python 3"
    },
    "accelerator": "GPU"
  },
  "cells": [
    {
      "cell_type": "markdown",
      "metadata": {
        "id": "ps7riyjHgG6q",
        "colab_type": "text"
      },
      "source": [
        "Importing Modules\n"
      ]
    },
    {
      "cell_type": "code",
      "metadata": {
        "id": "yjuWixLpfbGl",
        "colab_type": "code",
        "colab": {}
      },
      "source": [
        "import matplotlib.pyplot as plt\n",
        "%matplotlib inline\n",
        "import numpy as np\n",
        "import pandas as pd\n",
        "import datetime"
      ],
      "execution_count": 1,
      "outputs": []
    },
    {
      "cell_type": "markdown",
      "metadata": {
        "id": "bs19m3PugM1S",
        "colab_type": "text"
      },
      "source": [
        "importing database"
      ]
    },
    {
      "cell_type": "code",
      "metadata": {
        "id": "YvyLtH5KjIU1",
        "colab_type": "code",
        "colab": {}
      },
      "source": [
        "df = pd.read_csv(\"/content/Google_Stock_Price_Train.csv\", index_col=\"Date\", parse_dates=True)"
      ],
      "execution_count": 2,
      "outputs": []
    },
    {
      "cell_type": "code",
      "metadata": {
        "id": "z4S7GICKf6Ad",
        "colab_type": "code",
        "colab": {
          "base_uri": "https://localhost:8080/",
          "height": 225
        },
        "outputId": "2dd7addf-4acf-4134-f470-d32053a52fa4"
      },
      "source": [
        "df.head()\n",
        "# df.tail()"
      ],
      "execution_count": 3,
      "outputs": [
        {
          "output_type": "execute_result",
          "data": {
            "text/html": [
              "<div>\n",
              "<style scoped>\n",
              "    .dataframe tbody tr th:only-of-type {\n",
              "        vertical-align: middle;\n",
              "    }\n",
              "\n",
              "    .dataframe tbody tr th {\n",
              "        vertical-align: top;\n",
              "    }\n",
              "\n",
              "    .dataframe thead th {\n",
              "        text-align: right;\n",
              "    }\n",
              "</style>\n",
              "<table border=\"1\" class=\"dataframe\">\n",
              "  <thead>\n",
              "    <tr style=\"text-align: right;\">\n",
              "      <th></th>\n",
              "      <th>Open</th>\n",
              "      <th>High</th>\n",
              "      <th>Low</th>\n",
              "      <th>Close</th>\n",
              "      <th>Volume</th>\n",
              "    </tr>\n",
              "    <tr>\n",
              "      <th>Date</th>\n",
              "      <th></th>\n",
              "      <th></th>\n",
              "      <th></th>\n",
              "      <th></th>\n",
              "      <th></th>\n",
              "    </tr>\n",
              "  </thead>\n",
              "  <tbody>\n",
              "    <tr>\n",
              "      <th>2012-01-03</th>\n",
              "      <td>325.25</td>\n",
              "      <td>332.83</td>\n",
              "      <td>324.97</td>\n",
              "      <td>663.59</td>\n",
              "      <td>7,380,500</td>\n",
              "    </tr>\n",
              "    <tr>\n",
              "      <th>2012-01-04</th>\n",
              "      <td>331.27</td>\n",
              "      <td>333.87</td>\n",
              "      <td>329.08</td>\n",
              "      <td>666.45</td>\n",
              "      <td>5,749,400</td>\n",
              "    </tr>\n",
              "    <tr>\n",
              "      <th>2012-01-05</th>\n",
              "      <td>329.83</td>\n",
              "      <td>330.75</td>\n",
              "      <td>326.89</td>\n",
              "      <td>657.21</td>\n",
              "      <td>6,590,300</td>\n",
              "    </tr>\n",
              "    <tr>\n",
              "      <th>2012-01-06</th>\n",
              "      <td>328.34</td>\n",
              "      <td>328.77</td>\n",
              "      <td>323.68</td>\n",
              "      <td>648.24</td>\n",
              "      <td>5,405,900</td>\n",
              "    </tr>\n",
              "    <tr>\n",
              "      <th>2012-01-09</th>\n",
              "      <td>322.04</td>\n",
              "      <td>322.29</td>\n",
              "      <td>309.46</td>\n",
              "      <td>620.76</td>\n",
              "      <td>11,688,800</td>\n",
              "    </tr>\n",
              "  </tbody>\n",
              "</table>\n",
              "</div>"
            ],
            "text/plain": [
              "              Open    High     Low   Close      Volume\n",
              "Date                                                  \n",
              "2012-01-03  325.25  332.83  324.97  663.59   7,380,500\n",
              "2012-01-04  331.27  333.87  329.08  666.45   5,749,400\n",
              "2012-01-05  329.83  330.75  326.89  657.21   6,590,300\n",
              "2012-01-06  328.34  328.77  323.68  648.24   5,405,900\n",
              "2012-01-09  322.04  322.29  309.46  620.76  11,688,800"
            ]
          },
          "metadata": {
            "tags": []
          },
          "execution_count": 3
        }
      ]
    },
    {
      "cell_type": "markdown",
      "metadata": {
        "id": "lMfAu48JEwuY",
        "colab_type": "text"
      },
      "source": [
        "# New Section"
      ]
    },
    {
      "cell_type": "code",
      "metadata": {
        "id": "HZVTR9_2f76f",
        "colab_type": "code",
        "colab": {
          "base_uri": "https://localhost:8080/",
          "height": 122
        },
        "outputId": "3a0a9313-2032-4f7f-a992-316afde0136e"
      },
      "source": [
        "df.isnull().sum()"
      ],
      "execution_count": 4,
      "outputs": [
        {
          "output_type": "execute_result",
          "data": {
            "text/plain": [
              "Open      0\n",
              "High      0\n",
              "Low       0\n",
              "Close     0\n",
              "Volume    0\n",
              "dtype: int64"
            ]
          },
          "metadata": {
            "tags": []
          },
          "execution_count": 4
        }
      ]
    },
    {
      "cell_type": "code",
      "metadata": {
        "id": "TIqwQknZghdi",
        "colab_type": "code",
        "colab": {
          "base_uri": "https://localhost:8080/",
          "height": 284
        },
        "outputId": "640b740a-33e8-43c5-b004-a7a5bcde5761"
      },
      "source": [
        "df.describe()"
      ],
      "execution_count": 5,
      "outputs": [
        {
          "output_type": "execute_result",
          "data": {
            "text/html": [
              "<div>\n",
              "<style scoped>\n",
              "    .dataframe tbody tr th:only-of-type {\n",
              "        vertical-align: middle;\n",
              "    }\n",
              "\n",
              "    .dataframe tbody tr th {\n",
              "        vertical-align: top;\n",
              "    }\n",
              "\n",
              "    .dataframe thead th {\n",
              "        text-align: right;\n",
              "    }\n",
              "</style>\n",
              "<table border=\"1\" class=\"dataframe\">\n",
              "  <thead>\n",
              "    <tr style=\"text-align: right;\">\n",
              "      <th></th>\n",
              "      <th>Open</th>\n",
              "      <th>High</th>\n",
              "      <th>Low</th>\n",
              "    </tr>\n",
              "  </thead>\n",
              "  <tbody>\n",
              "    <tr>\n",
              "      <th>count</th>\n",
              "      <td>1258.000000</td>\n",
              "      <td>1258.000000</td>\n",
              "      <td>1258.000000</td>\n",
              "    </tr>\n",
              "    <tr>\n",
              "      <th>mean</th>\n",
              "      <td>533.709833</td>\n",
              "      <td>537.880223</td>\n",
              "      <td>529.007409</td>\n",
              "    </tr>\n",
              "    <tr>\n",
              "      <th>std</th>\n",
              "      <td>151.904442</td>\n",
              "      <td>153.008811</td>\n",
              "      <td>150.552807</td>\n",
              "    </tr>\n",
              "    <tr>\n",
              "      <th>min</th>\n",
              "      <td>279.120000</td>\n",
              "      <td>281.210000</td>\n",
              "      <td>277.220000</td>\n",
              "    </tr>\n",
              "    <tr>\n",
              "      <th>25%</th>\n",
              "      <td>404.115000</td>\n",
              "      <td>406.765000</td>\n",
              "      <td>401.765000</td>\n",
              "    </tr>\n",
              "    <tr>\n",
              "      <th>50%</th>\n",
              "      <td>537.470000</td>\n",
              "      <td>540.750000</td>\n",
              "      <td>532.990000</td>\n",
              "    </tr>\n",
              "    <tr>\n",
              "      <th>75%</th>\n",
              "      <td>654.922500</td>\n",
              "      <td>662.587500</td>\n",
              "      <td>644.800000</td>\n",
              "    </tr>\n",
              "    <tr>\n",
              "      <th>max</th>\n",
              "      <td>816.680000</td>\n",
              "      <td>816.680000</td>\n",
              "      <td>805.140000</td>\n",
              "    </tr>\n",
              "  </tbody>\n",
              "</table>\n",
              "</div>"
            ],
            "text/plain": [
              "              Open         High          Low\n",
              "count  1258.000000  1258.000000  1258.000000\n",
              "mean    533.709833   537.880223   529.007409\n",
              "std     151.904442   153.008811   150.552807\n",
              "min     279.120000   281.210000   277.220000\n",
              "25%     404.115000   406.765000   401.765000\n",
              "50%     537.470000   540.750000   532.990000\n",
              "75%     654.922500   662.587500   644.800000\n",
              "max     816.680000   816.680000   805.140000"
            ]
          },
          "metadata": {
            "tags": []
          },
          "execution_count": 5
        }
      ]
    },
    {
      "cell_type": "code",
      "metadata": {
        "id": "_9lUMdTYgv_o",
        "colab_type": "code",
        "colab": {
          "base_uri": "https://localhost:8080/",
          "height": 228
        },
        "outputId": "58832ebf-d2af-4ed0-f703-2ff677f8f996"
      },
      "source": [
        "df.info()"
      ],
      "execution_count": 6,
      "outputs": [
        {
          "output_type": "stream",
          "text": [
            "<class 'pandas.core.frame.DataFrame'>\n",
            "DatetimeIndex: 1258 entries, 2012-01-03 to 2016-12-30\n",
            "Data columns (total 5 columns):\n",
            " #   Column  Non-Null Count  Dtype  \n",
            "---  ------  --------------  -----  \n",
            " 0   Open    1258 non-null   float64\n",
            " 1   High    1258 non-null   float64\n",
            " 2   Low     1258 non-null   float64\n",
            " 3   Close   1258 non-null   object \n",
            " 4   Volume  1258 non-null   object \n",
            "dtypes: float64(3), object(2)\n",
            "memory usage: 59.0+ KB\n"
          ],
          "name": "stdout"
        }
      ]
    },
    {
      "cell_type": "markdown",
      "metadata": {
        "id": "hq0tVxoekZB5",
        "colab_type": "text"
      },
      "source": [
        "Plotting graph\n"
      ]
    },
    {
      "cell_type": "code",
      "metadata": {
        "id": "kqM06IHUgx-9",
        "colab_type": "code",
        "colab": {
          "base_uri": "https://localhost:8080/",
          "height": 392
        },
        "outputId": "c04e09b4-4acd-433f-fb28-084f6226fff0"
      },
      "source": [
        "plt.figure(figsize=[16,6])\n",
        "x = df[\"Open\"]\n",
        "plt.plot(x)"
      ],
      "execution_count": 7,
      "outputs": [
        {
          "output_type": "execute_result",
          "data": {
            "text/plain": [
              "[<matplotlib.lines.Line2D at 0x7f990039c240>]"
            ]
          },
          "metadata": {
            "tags": []
          },
          "execution_count": 7
        },
        {
          "output_type": "display_data",
          "data": {
            "image/png": "[encoded data removed]",
            "text/plain": [
              "<Figure size 1152x432 with 1 Axes>"
            ]
          },
          "metadata": {
            "tags": [],
            "needs_background": "light"
          }
        }
      ]
    },
    {
      "cell_type": "markdown",
      "metadata": {
        "id": "i-vvJIOm0caL",
        "colab_type": "text"
      },
      "source": [
        "Homogenize the datset"
      ]
    },
    {
      "cell_type": "code",
      "metadata": {
        "id": "4TEWggZEki11",
        "colab_type": "code",
        "colab": {}
      },
      "source": [
        "df[\"Close\"] = df[\"Close\"].str.replace(',', '').astype(float)\n",
        "df[\"Volume\"] = df[\"Volume\"].str.replace(',', '').astype(float)"
      ],
      "execution_count": 8,
      "outputs": []
    },
    {
      "cell_type": "code",
      "metadata": {
        "id": "KIXg4_t20THh",
        "colab_type": "code",
        "colab": {
          "base_uri": "https://localhost:8080/",
          "height": 284
        },
        "outputId": "323e85bc-4984-4486-97fc-fd03b581eec4"
      },
      "source": [
        "df.describe()"
      ],
      "execution_count": 9,
      "outputs": [
        {
          "output_type": "execute_result",
          "data": {
            "text/html": [
              "<div>\n",
              "<style scoped>\n",
              "    .dataframe tbody tr th:only-of-type {\n",
              "        vertical-align: middle;\n",
              "    }\n",
              "\n",
              "    .dataframe tbody tr th {\n",
              "        vertical-align: top;\n",
              "    }\n",
              "\n",
              "    .dataframe thead th {\n",
              "        text-align: right;\n",
              "    }\n",
              "</style>\n",
              "<table border=\"1\" class=\"dataframe\">\n",
              "  <thead>\n",
              "    <tr style=\"text-align: right;\">\n",
              "      <th></th>\n",
              "      <th>Open</th>\n",
              "      <th>High</th>\n",
              "      <th>Low</th>\n",
              "      <th>Close</th>\n",
              "      <th>Volume</th>\n",
              "    </tr>\n",
              "  </thead>\n",
              "  <tbody>\n",
              "    <tr>\n",
              "      <th>count</th>\n",
              "      <td>1258.000000</td>\n",
              "      <td>1258.000000</td>\n",
              "      <td>1258.000000</td>\n",
              "      <td>1258.000000</td>\n",
              "      <td>1.258000e+03</td>\n",
              "    </tr>\n",
              "    <tr>\n",
              "      <th>mean</th>\n",
              "      <td>533.709833</td>\n",
              "      <td>537.880223</td>\n",
              "      <td>529.007409</td>\n",
              "      <td>712.669666</td>\n",
              "      <td>3.158107e+06</td>\n",
              "    </tr>\n",
              "    <tr>\n",
              "      <th>std</th>\n",
              "      <td>151.904442</td>\n",
              "      <td>153.008811</td>\n",
              "      <td>150.552807</td>\n",
              "      <td>164.752591</td>\n",
              "      <td>2.273726e+06</td>\n",
              "    </tr>\n",
              "    <tr>\n",
              "      <th>min</th>\n",
              "      <td>279.120000</td>\n",
              "      <td>281.210000</td>\n",
              "      <td>277.220000</td>\n",
              "      <td>491.200000</td>\n",
              "      <td>7.900000e+03</td>\n",
              "    </tr>\n",
              "    <tr>\n",
              "      <th>25%</th>\n",
              "      <td>404.115000</td>\n",
              "      <td>406.765000</td>\n",
              "      <td>401.765000</td>\n",
              "      <td>576.740000</td>\n",
              "      <td>1.621700e+06</td>\n",
              "    </tr>\n",
              "    <tr>\n",
              "      <th>50%</th>\n",
              "      <td>537.470000</td>\n",
              "      <td>540.750000</td>\n",
              "      <td>532.990000</td>\n",
              "      <td>695.675000</td>\n",
              "      <td>2.566150e+06</td>\n",
              "    </tr>\n",
              "    <tr>\n",
              "      <th>75%</th>\n",
              "      <td>654.922500</td>\n",
              "      <td>662.587500</td>\n",
              "      <td>644.800000</td>\n",
              "      <td>782.105000</td>\n",
              "      <td>4.122500e+06</td>\n",
              "    </tr>\n",
              "    <tr>\n",
              "      <th>max</th>\n",
              "      <td>816.680000</td>\n",
              "      <td>816.680000</td>\n",
              "      <td>805.140000</td>\n",
              "      <td>1216.830000</td>\n",
              "      <td>2.497790e+07</td>\n",
              "    </tr>\n",
              "  </tbody>\n",
              "</table>\n",
              "</div>"
            ],
            "text/plain": [
              "              Open         High          Low        Close        Volume\n",
              "count  1258.000000  1258.000000  1258.000000  1258.000000  1.258000e+03\n",
              "mean    533.709833   537.880223   529.007409   712.669666  3.158107e+06\n",
              "std     151.904442   153.008811   150.552807   164.752591  2.273726e+06\n",
              "min     279.120000   281.210000   277.220000   491.200000  7.900000e+03\n",
              "25%     404.115000   406.765000   401.765000   576.740000  1.621700e+06\n",
              "50%     537.470000   540.750000   532.990000   695.675000  2.566150e+06\n",
              "75%     654.922500   662.587500   644.800000   782.105000  4.122500e+06\n",
              "max     816.680000   816.680000   805.140000  1216.830000  2.497790e+07"
            ]
          },
          "metadata": {
            "tags": []
          },
          "execution_count": 9
        }
      ]
    },
    {
      "cell_type": "markdown",
      "metadata": {
        "id": "91__rBpt00ge",
        "colab_type": "text"
      },
      "source": [
        "7 days rolling mean"
      ]
    },
    {
      "cell_type": "code",
      "metadata": {
        "id": "VG6ZOC3O0k1a",
        "colab_type": "code",
        "colab": {}
      },
      "source": [
        "# df.rolling().mean().head(15)"
      ],
      "execution_count": 10,
      "outputs": []
    },
    {
      "cell_type": "code",
      "metadata": {
        "id": "ueu_sXFp0_0H",
        "colab_type": "code",
        "colab": {
          "base_uri": "https://localhost:8080/",
          "height": 385
        },
        "outputId": "641099f5-35a4-4ba4-bf9b-a00df16006d3"
      },
      "source": [
        "df[\"Close\"].plot(figsize=(16,6))\n",
        "# 30 days rollling mean\n",
        "df.rolling(30).mean()[\"Close\"].plot()"
      ],
      "execution_count": 11,
      "outputs": [
        {
          "output_type": "execute_result",
          "data": {
            "text/plain": [
              "<matplotlib.axes._subplots.AxesSubplot at 0x7f98ffe3c940>"
            ]
          },
          "metadata": {
            "tags": []
          },
          "execution_count": 11
        },
        {
          "output_type": "display_data",
          "data": {
            "image/png": "[encoded data removed]",
            "text/plain": [
              "<Figure size 1152x432 with 1 Axes>"
            ]
          },
          "metadata": {
            "tags": [],
            "needs_background": "light"
          }
        }
      ]
    },
    {
      "cell_type": "code",
      "metadata": {
        "id": "f8rIfQf12DZK",
        "colab_type": "code",
        "colab": {
          "base_uri": "https://localhost:8080/",
          "height": 286
        },
        "outputId": "e9f36daf-3302-49ce-f717-b70bf927b88c"
      },
      "source": [
        "df[\"Close\"].expanding(min_periods=1).mean().plot() "
      ],
      "execution_count": 12,
      "outputs": [
        {
          "output_type": "execute_result",
          "data": {
            "text/plain": [
              "<matplotlib.axes._subplots.AxesSubplot at 0x7f98ffe3c898>"
            ]
          },
          "metadata": {
            "tags": []
          },
          "execution_count": 12
        },
        {
          "output_type": "display_data",
          "data": {
            "image/png": "[encoded data removed]",
            "text/plain": [
              "<Figure size 432x288 with 1 Axes>"
            ]
          },
          "metadata": {
            "tags": [],
            "needs_background": "light"
          }
        }
      ]
    },
    {
      "cell_type": "markdown",
      "metadata": {
        "id": "cqp06ZoK3nss",
        "colab_type": "text"
      },
      "source": [
        "## Traning Dataset"
      ]
    },
    {
      "cell_type": "code",
      "metadata": {
        "id": "BzHsZDuk3H25",
        "colab_type": "code",
        "colab": {}
      },
      "source": [
        "train = df[\"Open\"]\n",
        "train = pd.DataFrame(train)"
      ],
      "execution_count": 13,
      "outputs": []
    },
    {
      "cell_type": "markdown",
      "metadata": {
        "id": "ZbfZpmrO4gSg",
        "colab_type": "text"
      },
      "source": [
        "Data Preprocessing"
      ]
    },
    {
      "cell_type": "code",
      "metadata": {
        "id": "EoYKPyu131ze",
        "colab_type": "code",
        "colab": {}
      },
      "source": [
        "# Feature Scaling of data using minmax scaler\n",
        "from sklearn.preprocessing import MinMaxScaler\n",
        "scale = MinMaxScaler(feature_range = (0,1))\n",
        "train_scale = scale.fit_transform(train)"
      ],
      "execution_count": 14,
      "outputs": []
    },
    {
      "cell_type": "code",
      "metadata": {
        "id": "TlKMrxvY5qeT",
        "colab_type": "code",
        "colab": {}
      },
      "source": [
        "x_train = []\n",
        "y_train = []\n",
        "for i in range(60, 1258):\n",
        "  x_train.append(train_scale[i-60:i,0])\n",
        "  y_train.append(train_scale[i,0])\n",
        "\n",
        "x_train, y_train = np.array(x_train), np.array(y_train)\n",
        "\n",
        "# # Reshaping x_train\n",
        "x_train = np.reshape(x_train, (x_train.shape[0],x_train.shape[1],1))"
      ],
      "execution_count": 15,
      "outputs": []
    },
    {
      "cell_type": "code",
      "metadata": {
        "id": "7_RyzDeF7sAv",
        "colab_type": "code",
        "colab": {
          "base_uri": "https://localhost:8080/",
          "height": 34
        },
        "outputId": "e75cbfde-2436-4006-e81d-75fb0c105a5d"
      },
      "source": [
        "x_train.shape"
      ],
      "execution_count": 16,
      "outputs": [
        {
          "output_type": "execute_result",
          "data": {
            "text/plain": [
              "(1198, 60, 1)"
            ]
          },
          "metadata": {
            "tags": []
          },
          "execution_count": 16
        }
      ]
    },
    {
      "cell_type": "markdown",
      "metadata": {
        "id": "G-6pkdxu8kEQ",
        "colab_type": "text"
      },
      "source": [
        "Feature Extraction"
      ]
    },
    {
      "cell_type": "code",
      "metadata": {
        "id": "0NjcIera7t3t",
        "colab_type": "code",
        "colab": {}
      },
      "source": [
        "# importing keras libs\n",
        "from keras.models import Sequential\n",
        "from keras.layers import Dense\n",
        "from keras.layers import LSTM\n",
        "from keras.layers import Dropout"
      ],
      "execution_count": 17,
      "outputs": []
    },
    {
      "cell_type": "code",
      "metadata": {
        "id": "aJ3RK9nc-6yc",
        "colab_type": "code",
        "colab": {}
      },
      "source": [
        "# Initialize RNN\n",
        "regressor = Sequential()"
      ],
      "execution_count": 18,
      "outputs": []
    },
    {
      "cell_type": "markdown",
      "metadata": {
        "id": "D2cZbf7M_Qkr",
        "colab_type": "text"
      },
      "source": [
        "## Training Neural Network"
      ]
    },
    {
      "cell_type": "code",
      "metadata": {
        "id": "3yTM3ucX_JJ7",
        "colab_type": "code",
        "colab": {}
      },
      "source": [
        "# Adding the first LSTM layer and some Dropout regularisation\n",
        "regressor.add(LSTM(units = 50, return_sequences = True, input_shape = (x_train.shape[1], 1)))\n",
        "regressor.add(Dropout(0.2))\n",
        "\n",
        "# Adding a second LSTM layer and some Dropout regularisation\n",
        "regressor.add(LSTM(units = 50, return_sequences = True))\n",
        "regressor.add(Dropout(0.2))\n",
        "\n",
        "# Adding a third LSTM layer and some Dropout regularisation\n",
        "regressor.add(LSTM(units = 50, return_sequences = True))\n",
        "regressor.add(Dropout(0.2))\n",
        "\n",
        "# Adding a fourth LSTM layer and some Dropout regularisation\n",
        "regressor.add(LSTM(units = 50))\n",
        "regressor.add(Dropout(0.2))\n",
        "\n",
        "# Adding the output layer\n",
        "regressor.add(Dense(units = 1))"
      ],
      "execution_count": 19,
      "outputs": []
    },
    {
      "cell_type": "code",
      "metadata": {
        "id": "85JyoLwo-6sV",
        "colab_type": "code",
        "colab": {
          "base_uri": "https://localhost:8080/",
          "height": 1000
        },
        "outputId": "1d367559-e6bc-4c99-ee6d-94e603ede440"
      },
      "source": [
        "# Compiling the RNN\n",
        "regressor.compile(optimizer = 'adam', loss = 'mean_squared_error')\n",
        "\n",
        "# Fitting the RNN to the Training set\n",
        "regressor.fit(x_train, y_train, epochs = 100, batch_size = 32)"
      ],
      "execution_count": 20,
      "outputs": [
        {
          "output_type": "stream",
          "text": [
            "Epoch 1/100\n",
            "38/38 [==============================] - 1s 14ms/step - loss: 0.0376\n",
            "Epoch 2/100\n",
            "38/38 [==============================] - 0s 12ms/step - loss: 0.0058\n",
            "Epoch 3/100\n",
            "38/38 [==============================] - 1s 14ms/step - loss: 0.0050\n",
            "Epoch 4/100\n",
            "38/38 [==============================] - 0s 12ms/step - loss: 0.0049\n",
            "Epoch 5/100\n",
            "38/38 [==============================] - 1s 14ms/step - loss: 0.0054\n",
            "Epoch 6/100\n",
            "38/38 [==============================] - 0s 12ms/step - loss: 0.0044\n",
            "Epoch 7/100\n",
            "38/38 [==============================] - 0s 12ms/step - loss: 0.0054\n",
            "Epoch 8/100\n",
            "38/38 [==============================] - 0s 12ms/step - loss: 0.0047\n",
            "Epoch 9/100\n",
            "38/38 [==============================] - 1s 14ms/step - loss: 0.0041\n",
            "Epoch 10/100\n",
            "38/38 [==============================] - 0s 13ms/step - loss: 0.0044\n",
            "Epoch 11/100\n",
            "38/38 [==============================] - 0s 12ms/step - loss: 0.0048\n",
            "Epoch 12/100\n",
            "38/38 [==============================] - 0s 13ms/step - loss: 0.0042\n",
            "Epoch 13/100\n",
            "38/38 [==============================] - 0s 12ms/step - loss: 0.0044\n",
            "Epoch 14/100\n",
            "38/38 [==============================] - 0s 12ms/step - loss: 0.0040\n",
            "Epoch 15/100\n",
            "38/38 [==============================] - 0s 12ms/step - loss: 0.0038\n",
            "Epoch 16/100\n",
            "38/38 [==============================] - 0s 12ms/step - loss: 0.0043\n",
            "Epoch 17/100\n",
            "38/38 [==============================] - 0s 12ms/step - loss: 0.0041\n",
            "Epoch 18/100\n",
            "38/38 [==============================] - 0s 12ms/step - loss: 0.0038\n",
            "Epoch 19/100\n",
            "38/38 [==============================] - 0s 12ms/step - loss: 0.0038\n",
            "Epoch 20/100\n",
            "38/38 [==============================] - 0s 12ms/step - loss: 0.0035\n",
            "Epoch 21/100\n",
            "38/38 [==============================] - 1s 14ms/step - loss: 0.0044\n",
            "Epoch 22/100\n",
            "38/38 [==============================] - 1s 14ms/step - loss: 0.0047\n",
            "Epoch 23/100\n",
            "38/38 [==============================] - 0s 12ms/step - loss: 0.0031\n",
            "Epoch 24/100\n",
            "38/38 [==============================] - 0s 12ms/step - loss: 0.0031\n",
            "Epoch 25/100\n",
            "38/38 [==============================] - 0s 12ms/step - loss: 0.0034\n",
            "Epoch 26/100\n",
            "38/38 [==============================] - 0s 12ms/step - loss: 0.0034\n",
            "Epoch 27/100\n",
            "38/38 [==============================] - 0s 12ms/step - loss: 0.0032\n",
            "Epoch 28/100\n",
            "38/38 [==============================] - 0s 12ms/step - loss: 0.0028\n",
            "Epoch 29/100\n",
            "38/38 [==============================] - 1s 14ms/step - loss: 0.0028\n",
            "Epoch 30/100\n",
            "38/38 [==============================] - 0s 13ms/step - loss: 0.0031\n",
            "Epoch 31/100\n",
            "38/38 [==============================] - 0s 12ms/step - loss: 0.0028\n",
            "Epoch 32/100\n",
            "38/38 [==============================] - 0s 12ms/step - loss: 0.0030\n",
            "Epoch 33/100\n",
            "38/38 [==============================] - 0s 12ms/step - loss: 0.0030\n",
            "Epoch 34/100\n",
            "38/38 [==============================] - 0s 12ms/step - loss: 0.0027\n",
            "Epoch 35/100\n",
            "38/38 [==============================] - 0s 13ms/step - loss: 0.0027\n",
            "Epoch 36/100\n",
            "38/38 [==============================] - 0s 13ms/step - loss: 0.0027\n",
            "Epoch 37/100\n",
            "38/38 [==============================] - 0s 13ms/step - loss: 0.0027\n",
            "Epoch 38/100\n",
            "38/38 [==============================] - 1s 13ms/step - loss: 0.0028\n",
            "Epoch 39/100\n",
            "38/38 [==============================] - 0s 12ms/step - loss: 0.0030\n",
            "Epoch 40/100\n",
            "38/38 [==============================] - 0s 12ms/step - loss: 0.0024\n",
            "Epoch 41/100\n",
            "38/38 [==============================] - 0s 12ms/step - loss: 0.0026\n",
            "Epoch 42/100\n",
            "38/38 [==============================] - 0s 13ms/step - loss: 0.0029\n",
            "Epoch 43/100\n",
            "38/38 [==============================] - 0s 13ms/step - loss: 0.0025\n",
            "Epoch 44/100\n",
            "38/38 [==============================] - 0s 12ms/step - loss: 0.0026\n",
            "Epoch 45/100\n",
            "38/38 [==============================] - 0s 12ms/step - loss: 0.0023\n",
            "Epoch 46/100\n",
            "38/38 [==============================] - 0s 12ms/step - loss: 0.0024\n",
            "Epoch 47/100\n",
            "38/38 [==============================] - 0s 13ms/step - loss: 0.0024\n",
            "Epoch 48/100\n",
            "38/38 [==============================] - 0s 12ms/step - loss: 0.0025\n",
            "Epoch 49/100\n",
            "38/38 [==============================] - 0s 12ms/step - loss: 0.0023\n",
            "Epoch 50/100\n",
            "38/38 [==============================] - 0s 12ms/step - loss: 0.0023\n",
            "Epoch 51/100\n",
            "38/38 [==============================] - 0s 13ms/step - loss: 0.0023\n",
            "Epoch 52/100\n",
            "38/38 [==============================] - 0s 12ms/step - loss: 0.0026\n",
            "Epoch 53/100\n",
            "38/38 [==============================] - 0s 13ms/step - loss: 0.0024\n",
            "Epoch 54/100\n",
            "38/38 [==============================] - 0s 12ms/step - loss: 0.0023\n",
            "Epoch 55/100\n",
            "38/38 [==============================] - 1s 14ms/step - loss: 0.0021\n",
            "Epoch 56/100\n",
            "38/38 [==============================] - 1s 15ms/step - loss: 0.0022\n",
            "Epoch 57/100\n",
            "38/38 [==============================] - 1s 15ms/step - loss: 0.0023\n",
            "Epoch 58/100\n",
            "38/38 [==============================] - 1s 14ms/step - loss: 0.0023\n",
            "Epoch 59/100\n",
            "38/38 [==============================] - 1s 14ms/step - loss: 0.0021\n",
            "Epoch 60/100\n",
            "38/38 [==============================] - 1s 14ms/step - loss: 0.0019\n",
            "Epoch 61/100\n",
            "38/38 [==============================] - 1s 14ms/step - loss: 0.0022\n",
            "Epoch 62/100\n",
            "38/38 [==============================] - 1s 15ms/step - loss: 0.0020\n",
            "Epoch 63/100\n",
            "38/38 [==============================] - 0s 12ms/step - loss: 0.0019\n",
            "Epoch 64/100\n",
            "38/38 [==============================] - 0s 12ms/step - loss: 0.0019\n",
            "Epoch 65/100\n",
            "38/38 [==============================] - 0s 13ms/step - loss: 0.0019\n",
            "Epoch 66/100\n",
            "38/38 [==============================] - 1s 14ms/step - loss: 0.0022\n",
            "Epoch 67/100\n",
            "38/38 [==============================] - 1s 13ms/step - loss: 0.0019\n",
            "Epoch 68/100\n",
            "38/38 [==============================] - 1s 13ms/step - loss: 0.0020\n",
            "Epoch 69/100\n",
            "38/38 [==============================] - 0s 12ms/step - loss: 0.0020\n",
            "Epoch 70/100\n",
            "38/38 [==============================] - 0s 12ms/step - loss: 0.0022\n",
            "Epoch 71/100\n",
            "38/38 [==============================] - 0s 12ms/step - loss: 0.0017\n",
            "Epoch 72/100\n",
            "38/38 [==============================] - 0s 12ms/step - loss: 0.0018\n",
            "Epoch 73/100\n",
            "38/38 [==============================] - 1s 15ms/step - loss: 0.0019\n",
            "Epoch 74/100\n",
            "38/38 [==============================] - 0s 13ms/step - loss: 0.0018\n",
            "Epoch 75/100\n",
            "38/38 [==============================] - 0s 12ms/step - loss: 0.0018\n",
            "Epoch 76/100\n",
            "38/38 [==============================] - 0s 12ms/step - loss: 0.0020\n",
            "Epoch 77/100\n",
            "38/38 [==============================] - 0s 12ms/step - loss: 0.0017\n",
            "Epoch 78/100\n",
            "38/38 [==============================] - 0s 12ms/step - loss: 0.0019\n",
            "Epoch 79/100\n",
            "38/38 [==============================] - 0s 12ms/step - loss: 0.0017\n",
            "Epoch 80/100\n",
            "38/38 [==============================] - 0s 12ms/step - loss: 0.0017\n",
            "Epoch 81/100\n",
            "38/38 [==============================] - 0s 12ms/step - loss: 0.0015\n",
            "Epoch 82/100\n",
            "38/38 [==============================] - 0s 12ms/step - loss: 0.0018\n",
            "Epoch 83/100\n",
            "38/38 [==============================] - 0s 12ms/step - loss: 0.0017\n",
            "Epoch 84/100\n",
            "38/38 [==============================] - 0s 12ms/step - loss: 0.0016\n",
            "Epoch 85/100\n",
            "38/38 [==============================] - 0s 12ms/step - loss: 0.0019\n",
            "Epoch 86/100\n",
            "38/38 [==============================] - 0s 12ms/step - loss: 0.0019\n",
            "Epoch 87/100\n",
            "38/38 [==============================] - 0s 12ms/step - loss: 0.0015\n",
            "Epoch 88/100\n",
            "38/38 [==============================] - 0s 12ms/step - loss: 0.0017\n",
            "Epoch 89/100\n",
            "38/38 [==============================] - 0s 12ms/step - loss: 0.0016\n",
            "Epoch 90/100\n",
            "38/38 [==============================] - 0s 12ms/step - loss: 0.0013\n",
            "Epoch 91/100\n",
            "38/38 [==============================] - 0s 12ms/step - loss: 0.0019\n",
            "Epoch 92/100\n",
            "38/38 [==============================] - 0s 13ms/step - loss: 0.0015\n",
            "Epoch 93/100\n",
            "38/38 [==============================] - 0s 12ms/step - loss: 0.0016\n",
            "Epoch 94/100\n",
            "38/38 [==============================] - 0s 12ms/step - loss: 0.0016\n",
            "Epoch 95/100\n",
            "38/38 [==============================] - 0s 13ms/step - loss: 0.0015\n",
            "Epoch 96/100\n",
            "38/38 [==============================] - 0s 12ms/step - loss: 0.0016\n",
            "Epoch 97/100\n",
            "38/38 [==============================] - 0s 12ms/step - loss: 0.0015\n",
            "Epoch 98/100\n",
            "38/38 [==============================] - 0s 12ms/step - loss: 0.0014\n",
            "Epoch 99/100\n",
            "38/38 [==============================] - 0s 12ms/step - loss: 0.0015\n",
            "Epoch 100/100\n",
            "38/38 [==============================] - 0s 12ms/step - loss: 0.0016\n"
          ],
          "name": "stdout"
        },
        {
          "output_type": "execute_result",
          "data": {
            "text/plain": [
              "<tensorflow.python.keras.callbacks.History at 0x7f9868049f98>"
            ]
          },
          "metadata": {
            "tags": []
          },
          "execution_count": 20
        }
      ]
    },
    {
      "cell_type": "markdown",
      "metadata": {
        "id": "nf4AihkmDyp-",
        "colab_type": "text"
      },
      "source": [
        "# Prediction Analysis\n"
      ]
    },
    {
      "cell_type": "code",
      "metadata": {
        "id": "TxPVpUkrB4XF",
        "colab_type": "code",
        "colab": {}
      },
      "source": [
        "df_test = pd.read_csv('/content/Google_Stock_Price_Test.csv',index_col=\"Date\",parse_dates=True)"
      ],
      "execution_count": 21,
      "outputs": []
    },
    {
      "cell_type": "code",
      "metadata": {
        "id": "xgouDWzbD4dA",
        "colab_type": "code",
        "colab": {
          "base_uri": "https://localhost:8080/",
          "height": 225
        },
        "outputId": "5f95067a-76d7-41a2-8955-29279c35cf51"
      },
      "source": [
        "df_test.head()"
      ],
      "execution_count": 22,
      "outputs": [
        {
          "output_type": "execute_result",
          "data": {
            "text/html": [
              "<div>\n",
              "<style scoped>\n",
              "    .dataframe tbody tr th:only-of-type {\n",
              "        vertical-align: middle;\n",
              "    }\n",
              "\n",
              "    .dataframe tbody tr th {\n",
              "        vertical-align: top;\n",
              "    }\n",
              "\n",
              "    .dataframe thead th {\n",
              "        text-align: right;\n",
              "    }\n",
              "</style>\n",
              "<table border=\"1\" class=\"dataframe\">\n",
              "  <thead>\n",
              "    <tr style=\"text-align: right;\">\n",
              "      <th></th>\n",
              "      <th>Open</th>\n",
              "      <th>High</th>\n",
              "      <th>Low</th>\n",
              "      <th>Close</th>\n",
              "      <th>Volume</th>\n",
              "    </tr>\n",
              "    <tr>\n",
              "      <th>Date</th>\n",
              "      <th></th>\n",
              "      <th></th>\n",
              "      <th></th>\n",
              "      <th></th>\n",
              "      <th></th>\n",
              "    </tr>\n",
              "  </thead>\n",
              "  <tbody>\n",
              "    <tr>\n",
              "      <th>2017-01-03</th>\n",
              "      <td>778.81</td>\n",
              "      <td>789.63</td>\n",
              "      <td>775.80</td>\n",
              "      <td>786.14</td>\n",
              "      <td>1,657,300</td>\n",
              "    </tr>\n",
              "    <tr>\n",
              "      <th>2017-01-04</th>\n",
              "      <td>788.36</td>\n",
              "      <td>791.34</td>\n",
              "      <td>783.16</td>\n",
              "      <td>786.90</td>\n",
              "      <td>1,073,000</td>\n",
              "    </tr>\n",
              "    <tr>\n",
              "      <th>2017-01-05</th>\n",
              "      <td>786.08</td>\n",
              "      <td>794.48</td>\n",
              "      <td>785.02</td>\n",
              "      <td>794.02</td>\n",
              "      <td>1,335,200</td>\n",
              "    </tr>\n",
              "    <tr>\n",
              "      <th>2017-01-06</th>\n",
              "      <td>795.26</td>\n",
              "      <td>807.90</td>\n",
              "      <td>792.20</td>\n",
              "      <td>806.15</td>\n",
              "      <td>1,640,200</td>\n",
              "    </tr>\n",
              "    <tr>\n",
              "      <th>2017-01-09</th>\n",
              "      <td>806.40</td>\n",
              "      <td>809.97</td>\n",
              "      <td>802.83</td>\n",
              "      <td>806.65</td>\n",
              "      <td>1,272,400</td>\n",
              "    </tr>\n",
              "  </tbody>\n",
              "</table>\n",
              "</div>"
            ],
            "text/plain": [
              "              Open    High     Low   Close     Volume\n",
              "Date                                                 \n",
              "2017-01-03  778.81  789.63  775.80  786.14  1,657,300\n",
              "2017-01-04  788.36  791.34  783.16  786.90  1,073,000\n",
              "2017-01-05  786.08  794.48  785.02  794.02  1,335,200\n",
              "2017-01-06  795.26  807.90  792.20  806.15  1,640,200\n",
              "2017-01-09  806.40  809.97  802.83  806.65  1,272,400"
            ]
          },
          "metadata": {
            "tags": []
          },
          "execution_count": 22
        }
      ]
    },
    {
      "cell_type": "code",
      "metadata": {
        "id": "sk8JZ9HGEbw6",
        "colab_type": "code",
        "colab": {}
      },
      "source": [
        "test = df_test['Open']\n",
        "test = pd.DataFrame(test)"
      ],
      "execution_count": 23,
      "outputs": []
    },
    {
      "cell_type": "code",
      "metadata": {
        "id": "LarlojjVEnl5",
        "colab_type": "code",
        "colab": {}
      },
      "source": [
        "# Getting the predicted stock price of 2017\n",
        "df_total = pd.concat((df['Open'], df_test['Open']), axis = 0)"
      ],
      "execution_count": 24,
      "outputs": []
    },
    {
      "cell_type": "code",
      "metadata": {
        "id": "KqW1EPDIE6Rk",
        "colab_type": "code",
        "colab": {}
      },
      "source": [
        "inputs = df_total[len(df_total) - len(df_test) - 60:].values\n",
        "inputs = inputs.reshape(-1,1)\n",
        "inputs = scale.transform(inputs)"
      ],
      "execution_count": 25,
      "outputs": []
    },
    {
      "cell_type": "code",
      "metadata": {
        "id": "iQERKvcbF5mt",
        "colab_type": "code",
        "colab": {
          "base_uri": "https://localhost:8080/",
          "height": 34
        },
        "outputId": "1ee1ed3d-9a35-4f22-93ed-c7d53cb26f3c"
      },
      "source": [
        "inputs.shape"
      ],
      "execution_count": 26,
      "outputs": [
        {
          "output_type": "execute_result",
          "data": {
            "text/plain": [
              "(80, 1)"
            ]
          },
          "metadata": {
            "tags": []
          },
          "execution_count": 26
        }
      ]
    },
    {
      "cell_type": "code",
      "metadata": {
        "id": "3dgY985ZFvL5",
        "colab_type": "code",
        "colab": {}
      },
      "source": [
        "x_test = []\n",
        "for i in range(60, 80):\n",
        "    x_test.append(inputs[i-60:i, 0])\n",
        "x_test = np.array(x_test)\n",
        "x_test = np.reshape(x_test, (x_test.shape[0], x_test.shape[1], 1))"
      ],
      "execution_count": 27,
      "outputs": []
    },
    {
      "cell_type": "code",
      "metadata": {
        "id": "-lM8dcNVGVMK",
        "colab_type": "code",
        "colab": {}
      },
      "source": [
        "predicted_stock_price = regressor.predict(x_test)\n",
        "predicted_stock_price = scale.inverse_transform(predicted_stock_price)\n",
        "predicted_stock_price=pd.DataFrame(predicted_stock_price)"
      ],
      "execution_count": 28,
      "outputs": []
    },
    {
      "cell_type": "code",
      "metadata": {
        "id": "2dfO5FJVGzXn",
        "colab_type": "code",
        "colab": {
          "base_uri": "https://localhost:8080/",
          "height": 295
        },
        "outputId": "f72b8341-5efd-410a-d75a-3b93126fc6a1"
      },
      "source": [
        "# plotting\n",
        "real_stock_price = df_test.iloc[:, 1:2].values\n",
        "plt.plot(real_stock_price, color = 'red', label = 'Real Google Stock Price')\n",
        "plt.plot(predicted_stock_price, color = 'blue', label = 'Predicted Google Stock Price')\n",
        "plt.title('Google Stock Price Prediction')\n",
        "plt.xlabel('Time')\n",
        "plt.ylabel('Google Stock Price')\n",
        "plt.legend()\n",
        "plt.show()"
      ],
      "execution_count": 29,
      "outputs": [
        {
          "output_type": "display_data",
          "data": {
            "image/png": "[encoded data removed]",
            "text/plain": [
              "<Figure size 432x288 with 1 Axes>"
            ]
          },
          "metadata": {
            "tags": [],
            "needs_background": "light"
          }
        }
      ]
    },
    {
      "cell_type": "code",
      "metadata": {
        "id": "sqJPZ3kQdxKV",
        "colab_type": "code",
        "colab": {
          "base_uri": "https://localhost:8080/",
          "height": 369
        },
        "outputId": "6e2d6e32-82b9-41ce-a195-488f75739dd0"
      },
      "source": [
        "predicted_stock_price = np.array(predicted_stock_price, dtype=float)\n",
        "predicted_stock_price"
      ],
      "execution_count": 36,
      "outputs": [
        {
          "output_type": "execute_result",
          "data": {
            "text/plain": [
              "array([[788.62384033],\n",
              "       [785.83441162],\n",
              "       [785.47253418],\n",
              "       [786.56488037],\n",
              "       [789.61437988],\n",
              "       [795.11297607],\n",
              "       [800.61657715],\n",
              "       [803.44445801],\n",
              "       [804.15893555],\n",
              "       [803.96026611],\n",
              "       [803.66259766],\n",
              "       [803.44586182],\n",
              "       [803.3760376 ],\n",
              "       [803.91912842],\n",
              "       [804.89025879],\n",
              "       [808.93145752],\n",
              "       [815.4262085 ],\n",
              "       [822.80773926],\n",
              "       [827.51599121],\n",
              "       [824.88146973]])"
            ]
          },
          "metadata": {
            "tags": []
          },
          "execution_count": 36
        }
      ]
    },
    {
      "cell_type": "code",
      "metadata": {
        "id": "FPjSrDSeT5GQ",
        "colab_type": "code",
        "colab": {
          "base_uri": "https://localhost:8080/",
          "height": 369
        },
        "outputId": "49fca639-665f-4e14-e58a-3517c31430ee"
      },
      "source": [
        "real_stock_price"
      ],
      "execution_count": 32,
      "outputs": [
        {
          "output_type": "execute_result",
          "data": {
            "text/plain": [
              "array([[789.63],\n",
              "       [791.34],\n",
              "       [794.48],\n",
              "       [807.9 ],\n",
              "       [809.97],\n",
              "       [809.13],\n",
              "       [808.15],\n",
              "       [807.39],\n",
              "       [811.22],\n",
              "       [807.14],\n",
              "       [806.21],\n",
              "       [809.48],\n",
              "       [806.91],\n",
              "       [820.87],\n",
              "       [825.9 ],\n",
              "       [835.77],\n",
              "       [838.  ],\n",
              "       [841.95],\n",
              "       [815.84],\n",
              "       [801.25]])"
            ]
          },
          "metadata": {
            "tags": []
          },
          "execution_count": 32
        }
      ]
    },
    {
      "cell_type": "code",
      "metadata": {
        "id": "ewRClg7MHQdP",
        "colab_type": "code",
        "colab": {
          "base_uri": "https://localhost:8080/",
          "height": 369
        },
        "outputId": "697c670d-19d3-4712-b001-64f48cb01d5b"
      },
      "source": [
        "a = (real_stock_price - predicted_stock_price)**2\n",
        "a"
      ],
      "execution_count": 37,
      "outputs": [
        {
          "output_type": "execute_result",
          "data": {
            "text/plain": [
              "array([[  1.01235728],\n",
              "       [ 30.3115034 ],\n",
              "       [ 81.1344405 ],\n",
              "       [455.18732958],\n",
              "       [414.35127036],\n",
              "       [196.47695974],\n",
              "       [ 56.75245986],\n",
              "       [ 15.56730161],\n",
              "       [ 49.85863121],\n",
              "       [ 10.11070759],\n",
              "       [  6.4892587 ],\n",
              "       [ 36.41082362],\n",
              "       [ 12.48889026],\n",
              "       [287.33204739],\n",
              "       [441.40922575],\n",
              "       [720.30736248],\n",
              "       [509.57606286],\n",
              "       [366.42614632],\n",
              "       [136.32877076],\n",
              "       [558.44636144]])"
            ]
          },
          "metadata": {
            "tags": []
          },
          "execution_count": 37
        }
      ]
    },
    {
      "cell_type": "code",
      "metadata": {
        "id": "u3AGT9c5eH5H",
        "colab_type": "code",
        "colab": {
          "base_uri": "https://localhost:8080/",
          "height": 34
        },
        "outputId": "7cb959b8-bb84-4070-ded3-326b2bf54213"
      },
      "source": [
        "(a.sum()**0.5)/20"
      ],
      "execution_count": 40,
      "outputs": [
        {
          "output_type": "execute_result",
          "data": {
            "text/plain": [
              "3.311335799455177"
            ]
          },
          "metadata": {
            "tags": []
          },
          "execution_count": 40
        }
      ]
    },
    {
      "cell_type": "code",
      "metadata": {
        "id": "YRVPaR-3IV1t",
        "colab_type": "code",
        "colab": {
          "base_uri": "https://localhost:8080/",
          "height": 34
        },
        "outputId": "5357c106-224b-4084-d26b-7b68eeba1d5f"
      },
      "source": [
        "acc = ((a.sum())**0.5)//20\n",
        "print(\"RMSE is \" + str(acc))"
      ],
      "execution_count": 42,
      "outputs": [
        {
          "output_type": "stream",
          "text": [
            "RMSE is 3.0\n"
          ],
          "name": "stdout"
        }
      ]
    },
    {
      "cell_type": "code",
      "metadata": {
        "id": "36WNbLJreSAy",
        "colab_type": "code",
        "colab": {}
      },
      "source": [
        ""
      ],
      "execution_count": null,
      "outputs": []
    }
  ]
}